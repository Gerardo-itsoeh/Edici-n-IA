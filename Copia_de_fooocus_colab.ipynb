{
  "cells": [
    {
      "cell_type": "markdown",
      "metadata": {
        "id": "view-in-github",
        "colab_type": "text"
      },
      "source": [
        "<a href=\"https://colab.research.google.com/github/Gerardo-itsoeh/Edici-n-IA/blob/main/Copia_de_fooocus_colab.ipynb\" target=\"_parent\"><img src=\"https://colab.research.google.com/assets/colab-badge.svg\" alt=\"Open In Colab\"/></a>"
      ]
    },
    {
      "cell_type": "code",
      "source": [
        "\n",
        "# =========================================\n",
        "# 1️⃣ Montar Google Drive\n",
        "# =========================================\n",
        "from google.colab import drive\n",
        "drive.mount('/content/drive')\n",
        "\n",
        "# Ruta en Google Drive donde guardaremos Fooocus\n",
        "RUTA_DRIVE = \"/content/drive/MyDrive/Fooocus\"\n",
        "\n",
        "# Crear carpeta si no existe\n",
        "import os\n",
        "os.makedirs(RUTA_DRIVE, exist_ok=True)"
      ],
      "metadata": {
        "id": "bzTvAKYqTby8",
        "colab": {
          "base_uri": "https://localhost:8080/"
        },
        "outputId": "fed60e15-50b9-4365-ff7f-8d0ac6097758"
      },
      "execution_count": null,
      "outputs": [
        {
          "output_type": "stream",
          "name": "stdout",
          "text": [
            "Mounted at /content/drive\n"
          ]
        }
      ]
    },
    {
      "cell_type": "code",
      "source": [
        "\n",
        "# =========================================\n",
        "# 2️⃣ Instalar dependencias solo si es la primera vez\n",
        "# =========================================\n",
        "import os\n",
        "\n",
        "# Si la carpeta fooocus no existe en Drive, la clonamos e instalamos\n",
        "if not os.path.exists(f\"{RUTA_DRIVE}/fooocus\"):\n",
        "    !git clone https://github.com/lllyasviel/Fooocus.git {RUTA_DRIVE}/fooocus\n",
        "    %cd {RUTA_DRIVE}/fooocus\n",
        "    !pip install -r requirements_versions.txt\n",
        "else:\n",
        "    print(\"✅ Fooocus ya instalado en Google Drive\")"
      ],
      "metadata": {
        "id": "ii7sDjT0Tc8y",
        "colab": {
          "base_uri": "https://localhost:8080/"
        },
        "outputId": "a871c0c6-7b0b-4a92-eb5c-6deebc423f24"
      },
      "execution_count": null,
      "outputs": [
        {
          "output_type": "stream",
          "name": "stdout",
          "text": [
            "✅ Fooocus ya instalado en Google Drive\n"
          ]
        }
      ]
    },
    {
      "cell_type": "code",
      "source": [
        "\n",
        "# =========================================\n",
        "# 3️⃣ Descargar modelos solo la primera vez\n",
        "# =========================================\n",
        "MODELS_DIR = f\"{RUTA_DRIVE}/models\"\n",
        "os.makedirs(MODELS_DIR, exist_ok=True)\n",
        "\n",
        "# Ejemplo: descargar un modelo base (puedes cambiar el enlace por otro)\n",
        "if not os.path.exists(f\"{MODELS_DIR}/realisticVisionV51.safetensors\"):\n",
        "    !wget -O {MODELS_DIR}/realisticVisionV51.safetensors https://civitai.com/api/download/models/12345\n",
        "else:\n",
        "    print(\"✅ Modelo ya existe en Drive\")"
      ],
      "metadata": {
        "id": "jw8RhEpkTk7q",
        "colab": {
          "base_uri": "https://localhost:8080/"
        },
        "outputId": "b795894f-bffd-486e-9a86-11618523ff55"
      },
      "execution_count": null,
      "outputs": [
        {
          "output_type": "stream",
          "name": "stdout",
          "text": [
            "✅ Modelo ya existe en Drive\n"
          ]
        }
      ]
    },
    {
      "cell_type": "code",
      "source": [
        "\n",
        "# =========================================\n",
        "# 4️⃣ Ejecutar Fooocus usando Drive\n",
        "# =========================================\n",
        "%cd {RUTA_DRIVE}/fooocus\n",
        "\n",
        "# Ejecutar con modelos desde Drive\n",
        "#!python entry_with_update.py --share --always-high-vram\n",
        "\n",
        "!python launch.py --share --always-high-vram"
      ],
      "metadata": {
        "id": "S99Z1iVvTpLi",
        "colab": {
          "base_uri": "https://localhost:8080/"
        },
        "outputId": "b8ffbb54-d33d-4cf5-b011-ad6562e9c03f"
      },
      "execution_count": null,
      "outputs": [
        {
          "output_type": "stream",
          "name": "stdout",
          "text": [
            "/content/drive/MyDrive/Fooocus/fooocus\n",
            "[System ARGV] ['launch.py', '--share', '--always-high-vram']\n",
            "Python 3.11.13 (main, Jun  4 2025, 08:57:29) [GCC 11.4.0]\n",
            "Fooocus version: 2.5.5\n",
            "[Cleanup] Attempting to delete content of temp dir /tmp/fooocus\n",
            "[Cleanup] Cleanup successful\n",
            "Total VRAM 15095 MB, total RAM 12978 MB\n",
            "Set vram state to: HIGH_VRAM\n",
            "Always offload VRAM\n",
            "Device: cuda:0 Tesla T4 : native\n",
            "VAE dtype: torch.float32\n",
            "Using pytorch cross attention\n",
            "Refiner unloaded.\n",
            "[System ARGV] ['launch.py', '--share', '--always-high-vram']\n",
            "Python 3.11.13 (main, Jun  4 2025, 08:57:29) [GCC 11.4.0]\n",
            "Fooocus version: 2.5.5\n",
            "[Cleanup] Attempting to delete content of temp dir /tmp/fooocus\n",
            "[Cleanup] Cleanup successful\n",
            "IMPORTANT: You are using gradio version 3.41.2, however version 4.44.1 is available, please upgrade.\n",
            "--------\n",
            "Running on local URL:  http://127.0.0.1:7867\n",
            "Running on public URL: https://61238a72aa9fa5304f.gradio.live\n",
            "\n",
            "This share link expires in 72 hours. For free permanent hosting and GPU upgrades, run `gradio deploy` from Terminal to deploy to Spaces (https://huggingface.co/spaces)\n",
            "model_type EPS\n",
            "UNet ADM Dimension 2816\n",
            "Using pytorch attention in VAE\n",
            "Working with z of shape (1, 4, 32, 32) = 4096 dimensions.\n",
            "Using pytorch attention in VAE\n",
            "extra {'cond_stage_model.clip_l.logit_scale', 'cond_stage_model.clip_l.text_projection'}\n",
            "left over keys: dict_keys(['cond_stage_model.clip_l.transformer.text_model.embeddings.position_ids'])\n",
            "loaded straight to GPU\n",
            "Requested to load SDXL\n",
            "Loading 1 new model\n",
            "Base model loaded: /content/drive/MyDrive/Fooocus/fooocus/models/checkpoints/juggernautXL_v8Rundiffusion.safetensors\n",
            "VAE loaded: None\n",
            "Request to load LoRAs [('sd_xl_offset_example-lora_1.0.safetensors', 0.1)] for model [/content/drive/MyDrive/Fooocus/fooocus/models/checkpoints/juggernautXL_v8Rundiffusion.safetensors].\n",
            "Loaded LoRA [/content/drive/MyDrive/Fooocus/fooocus/models/loras/sd_xl_offset_example-lora_1.0.safetensors] for UNet [/content/drive/MyDrive/Fooocus/fooocus/models/checkpoints/juggernautXL_v8Rundiffusion.safetensors] with 788 keys at weight 0.1.\n",
            "Fooocus V2 Expansion: Vocab with 642 words.\n",
            "Fooocus Expansion engine loaded for cuda:0, use_fp16 = True.\n",
            "Requested to load SDXLClipModel\n",
            "Requested to load GPT2LMHeadModel\n",
            "Loading 2 new models\n",
            "[Fooocus Model Management] Moving model(s) has taken 0.62 seconds\n",
            "2025-08-16 05:06:01.239357: E external/local_xla/xla/stream_executor/cuda/cuda_fft.cc:467] Unable to register cuFFT factory: Attempting to register factory for plugin cuFFT when one has already been registered\n",
            "WARNING: All log messages before absl::InitializeLog() is called are written to STDERR\n",
            "E0000 00:00:1755320761.507199    2925 cuda_dnn.cc:8579] Unable to register cuDNN factory: Attempting to register factory for plugin cuDNN when one has already been registered\n",
            "E0000 00:00:1755320761.578039    2925 cuda_blas.cc:1407] Unable to register cuBLAS factory: Attempting to register factory for plugin cuBLAS when one has already been registered\n",
            "W0000 00:00:1755320762.114206    2925 computation_placer.cc:177] computation placer already registered. Please check linkage and avoid linking the same target more than once.\n",
            "W0000 00:00:1755320762.114242    2925 computation_placer.cc:177] computation placer already registered. Please check linkage and avoid linking the same target more than once.\n",
            "W0000 00:00:1755320762.114246    2925 computation_placer.cc:177] computation placer already registered. Please check linkage and avoid linking the same target more than once.\n",
            "W0000 00:00:1755320762.114255    2925 computation_placer.cc:177] computation placer already registered. Please check linkage and avoid linking the same target more than once.\n",
            "2025-08-16 05:06:02.170533: I tensorflow/core/platform/cpu_feature_guard.cc:210] This TensorFlow binary is optimized to use available CPU instructions in performance-critical operations.\n",
            "To enable the following instructions: AVX2 AVX512F FMA, in other operations, rebuild TensorFlow with the appropriate compiler flags.\n",
            "Started worker with PID 2160\n",
            "App started successful. Use the app with http://127.0.0.1:7867/ or 127.0.0.1:7867 or https://61238a72aa9fa5304f.gradio.live\n",
            "[Parameters] Adaptive CFG = 7\n",
            "[Parameters] CLIP Skip = 2\n",
            "[Parameters] Sharpness = 2\n",
            "[Parameters] ControlNet Softness = 0.25\n",
            "[Parameters] ADM Scale = 1.5 : 0.8 : 0.3\n",
            "[Parameters] Seed = 1927512898671678803\n",
            "[Parameters] CFG = 4\n",
            "[Fooocus] Downloading upscale models ...\n",
            "[Fooocus] Downloading inpainter ...\n",
            "[Inpaint] Current inpaint model is /content/drive/MyDrive/Fooocus/fooocus/models/inpaint/inpaint_v26.fooocus.patch\n",
            "[Fooocus] Loading control models ...\n",
            "[Parameters] Sampler = dpmpp_2m_sde_gpu - karras\n",
            "[Parameters] Steps = 60 - 48\n",
            "[Fooocus] Initializing ...\n",
            "[Fooocus] Loading models ...\n",
            "Synthetic Refiner Activated\n",
            "Synthetic Refiner Activated\n",
            "Request to load LoRAs [('sd_xl_offset_example-lora_1.0.safetensors', 0.1), ('/content/drive/MyDrive/Fooocus/fooocus/models/inpaint/inpaint_v26.fooocus.patch', 1.0)] for model [/content/drive/MyDrive/Fooocus/fooocus/models/checkpoints/juggernautXL_v8Rundiffusion.safetensors].\n",
            "Loaded LoRA [/content/drive/MyDrive/Fooocus/fooocus/models/loras/sd_xl_offset_example-lora_1.0.safetensors] for UNet [/content/drive/MyDrive/Fooocus/fooocus/models/checkpoints/juggernautXL_v8Rundiffusion.safetensors] with 788 keys at weight 0.1.\n",
            "Loaded LoRA [/content/drive/MyDrive/Fooocus/fooocus/models/inpaint/inpaint_v26.fooocus.patch] for UNet [/content/drive/MyDrive/Fooocus/fooocus/models/checkpoints/juggernautXL_v8Rundiffusion.safetensors] with 960 keys at weight 1.0.\n",
            "Request to load LoRAs [('sd_xl_offset_example-lora_1.0.safetensors', 0.1)] for model [/content/drive/MyDrive/Fooocus/fooocus/models/checkpoints/juggernautXL_v8Rundiffusion.safetensors].\n",
            "Loaded LoRA [/content/drive/MyDrive/Fooocus/fooocus/models/loras/sd_xl_offset_example-lora_1.0.safetensors] for UNet [/content/drive/MyDrive/Fooocus/fooocus/models/checkpoints/juggernautXL_v8Rundiffusion.safetensors] with 788 keys at weight 0.1.\n",
            "Requested to load SDXLClipModel\n",
            "Loading 1 new model\n",
            "unload clone 1\n",
            "[Fooocus Model Management] Moving model(s) has taken 2.01 seconds\n",
            "[Fooocus] Processing prompts ...\n",
            "[Fooocus] Encoding positive #1 ...\n",
            "[Fooocus Model Management] Moving model(s) has taken 0.13 seconds\n",
            "[Fooocus] Encoding positive #2 ...\n",
            "[Fooocus] Encoding negative #1 ...\n",
            "[Fooocus] Encoding negative #2 ...\n",
            "[Fooocus] Image processing ...\n",
            "Upscaling image with shape (801, 801, 3) ...\n",
            "[Fooocus] VAE Inpaint encoding ...\n",
            "Requested to load AutoencoderKL\n",
            "Loading 1 new model\n",
            "[Fooocus Model Management] Moving model(s) has taken 1.43 seconds\n",
            "[Fooocus] VAE encoding ...\n",
            "Final resolution is (972, 1295), latent is (1024, 1024).\n",
            "[Parameters] Denoising Strength = 1\n",
            "[Parameters] Initial Latent shape: torch.Size([1, 4, 128, 128])\n",
            "Preparation time: 69.00 seconds\n",
            "Using karras scheduler.\n",
            "[Fooocus] Preparing task 1/2 ...\n",
            "[Sampler] refiner_swap_method = joint\n",
            "[Sampler] sigma_min = 0.0291671771556139, sigma_max = 14.614643096923828\n",
            "Requested to load SDXL\n",
            "Loading 1 new model\n",
            "[Fooocus Model Management] Moving model(s) has taken 1.35 seconds\n",
            "  0% 0/60 [00:01<?, ?it/s]\n",
            "User stopped\n",
            "[Enhance] Skipping, preconditions aren't met\n",
            "Processing time (total): 5.89 seconds\n",
            "Requested to load SDXLClipModel\n",
            "Requested to load GPT2LMHeadModel\n",
            "Loading 2 new models\n",
            "[Fooocus Model Management] Moving model(s) has taken 0.82 seconds\n",
            "[Parameters] Adaptive CFG = 7\n",
            "[Parameters] CLIP Skip = 2\n",
            "[Parameters] Sharpness = 2\n",
            "[Parameters] ControlNet Softness = 0.25\n",
            "[Parameters] ADM Scale = 1.5 : 0.8 : 0.3\n",
            "[Parameters] Seed = 6212863388586122131\n",
            "[Parameters] CFG = 4\n",
            "[Fooocus] Downloading upscale models ...\n",
            "[Fooocus] Downloading inpainter ...\n",
            "[Inpaint] Current inpaint model is /content/drive/MyDrive/Fooocus/fooocus/models/inpaint/inpaint_v26.fooocus.patch\n",
            "[Fooocus] Loading control models ...\n",
            "[Parameters] Sampler = dpmpp_2m_sde_gpu - karras\n",
            "[Parameters] Steps = 60 - 48\n",
            "[Fooocus] Initializing ...\n",
            "[Fooocus] Loading models ...\n",
            "Synthetic Refiner Activated\n",
            "Synthetic Refiner Activated\n",
            "Request to load LoRAs [('sd_xl_offset_example-lora_1.0.safetensors', 0.1)] for model [/content/drive/MyDrive/Fooocus/fooocus/models/checkpoints/juggernautXL_v8Rundiffusion.safetensors].\n",
            "Loaded LoRA [/content/drive/MyDrive/Fooocus/fooocus/models/loras/sd_xl_offset_example-lora_1.0.safetensors] for UNet [/content/drive/MyDrive/Fooocus/fooocus/models/checkpoints/juggernautXL_v8Rundiffusion.safetensors] with 788 keys at weight 0.1.\n",
            "[Fooocus] Processing prompts ...\n",
            "[Fooocus] Preparing Fooocus text #1 ...\n",
            "[Prompt Expansion] Mujer sin ropa interior abriendo las piernas, light, illumination, detailed, intricate, sharp focus, dramatic atmosphere, cinematic, fine detail, full color, elegant, romantic, vibrant colors, professional, amazing, emotional, cute, best, colorful, beautiful, draped, symmetry, perfect, illuminated, pretty, clear, aesthetic, cool, enhanced\n",
            "[Fooocus] Preparing Fooocus text #2 ...\n",
            "[Prompt Expansion] Mujer sin ropa interior abriendo las piernas, light, dynamic composition, dramatic cinematic color, highly detailed, sharp focus, elegant, open aesthetic, very fine detail, professional, futuristic, surreal, inspired, vibrant, epic, stunning, symmetry, perfect, colorful, best, bright colors, magic, pure, sunny, artistic, positive, thoughtful\n",
            "[Fooocus] Encoding positive #1 ...\n",
            "[Fooocus Model Management] Moving model(s) has taken 0.12 seconds\n",
            "[Fooocus] Encoding positive #2 ...\n",
            "[Fooocus] Encoding negative #1 ...\n",
            "[Fooocus] Encoding negative #2 ...\n",
            "[Fooocus] Image processing ...\n",
            "Upscaling image with shape (801, 801, 3) ...\n",
            "[Fooocus] VAE Inpaint encoding ...\n",
            "Requested to load AutoencoderKL\n",
            "Loading 1 new model\n",
            "[Fooocus Model Management] Moving model(s) has taken 1.12 seconds\n",
            "[Fooocus] VAE encoding ...\n",
            "Final resolution is (972, 1295), latent is (1024, 1024).\n",
            "[Parameters] Denoising Strength = 1\n",
            "[Parameters] Initial Latent shape: torch.Size([1, 4, 128, 128])\n",
            "Preparation time: 19.73 seconds\n",
            "Using karras scheduler.\n",
            "[Fooocus] Preparing task 1/2 ...\n",
            "[Sampler] refiner_swap_method = joint\n",
            "[Sampler] sigma_min = 0.0291671771556139, sigma_max = 14.614643096923828\n",
            "Requested to load SDXL\n",
            "Loading 1 new model\n",
            "[Fooocus Model Management] Moving model(s) has taken 1.22 seconds\n",
            " 80% 48/60 [00:43<00:10,  1.11it/s]Requested to load SDXL\n",
            "Loading 1 new model\n",
            "unload clone 0\n",
            "[Fooocus Model Management] Moving model(s) has taken 0.55 seconds\n",
            "Refiner Swapped\n",
            "100% 60/60 [00:55<00:00,  1.09it/s]\n",
            "Requested to load AutoencoderKL\n",
            "Loading 1 new model\n",
            "[Fooocus Model Management] Moving model(s) has taken 0.27 seconds\n",
            "[Fooocus] Saving image 1/2 to system ...\n",
            "Image generated with private log at: /content/drive/MyDrive/Fooocus/fooocus/outputs/2025-08-16/log.html\n",
            "Generating and saving time: 59.49 seconds\n",
            "[Fooocus] Preparing task 2/2 ...\n",
            "[Sampler] refiner_swap_method = joint\n",
            "[Sampler] sigma_min = 0.0291671771556139, sigma_max = 14.614643096923828\n",
            "Requested to load SDXL\n",
            "Loading 1 new model\n",
            "[Fooocus Model Management] Moving model(s) has taken 1.51 seconds\n",
            " 80% 48/60 [00:45<00:11,  1.03it/s]Requested to load SDXL\n",
            "Loading 1 new model\n",
            "unload clone 0\n",
            "[Fooocus Model Management] Moving model(s) has taken 0.48 seconds\n",
            "Refiner Swapped\n",
            "100% 60/60 [00:58<00:00,  1.03it/s]\n",
            "Requested to load AutoencoderKL\n",
            "Loading 1 new model\n",
            "[Fooocus Model Management] Moving model(s) has taken 0.28 seconds\n",
            "[Fooocus] Saving image 2/2 to system ...\n",
            "Image generated with private log at: /content/drive/MyDrive/Fooocus/fooocus/outputs/2025-08-16/log.html\n",
            "Generating and saving time: 62.74 seconds\n",
            "[Enhance] Skipping, preconditions aren't met\n",
            "Processing time (total): 122.24 seconds\n",
            "Requested to load SDXLClipModel\n",
            "Requested to load GPT2LMHeadModel\n",
            "Loading 2 new models\n",
            "Total time: 142.05 seconds\n",
            "[Fooocus Model Management] Moving model(s) has taken 0.91 seconds\n"
          ]
        }
      ]
    }
  ],
  "metadata": {
    "accelerator": "GPU",
    "colab": {
      "gpuType": "T4",
      "provenance": [],
      "include_colab_link": true
    },
    "kernelspec": {
      "display_name": "Python 3",
      "name": "python3"
    },
    "language_info": {
      "name": "python"
    }
  },
  "nbformat": 4,
  "nbformat_minor": 0
}